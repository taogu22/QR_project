{
 "cells": [
  {
   "cell_type": "code",
   "execution_count": 1,
   "metadata": {
    "collapsed": false
   },
   "outputs": [],
   "source": [
    "from graphviz import Digraph\n",
    "import itertools\n",
    "import os\n",
    "os.environ[\"PATH\"] += os.pathsep + 'C:/Program Files (x86)/Graphviz2.38/bin/' # if your computer system is windows"
   ]
  },
  {
   "cell_type": "code",
   "execution_count": 2,
   "metadata": {
    "collapsed": false
   },
   "outputs": [],
   "source": [
    "Inflow = [x for x in itertools.product(('0','+'),('-','0','+'))]\n",
    "Volume = [x for x in itertools.product(('0','+','max'),('-','0','+'))]\n",
    "Outflow = [x for x in itertools.product(('0','+','max'),('-','0','+'))]\n",
    "Height = [x for x in itertools.product(('0','+','max'),('-','0','+'))]\n",
    "Pressure = [x for x in itertools.product(('0','+','max'),('-','0','+'))]\n",
    "initial_state = (('0','0'),('0','0'),('0','0'),('0','0'),('0','0'))"
   ]
  },
  {
   "cell_type": "code",
   "execution_count": 3,
   "metadata": {
    "collapsed": false
   },
   "outputs": [],
   "source": [
    "def judgev(state):\n",
    "    judge = True\n",
    "    a = state[0]\n",
    "    b = state[2]\n",
    "    c = state[1]\n",
    "    if a[0]=='+' and b[0]=='0' and c[1]!='+':\n",
    "        judge = False\n",
    "    elif a[0]=='0' and b[0]=='+' and c[1]!='-':\n",
    "        judge = False\n",
    "    elif a[0]=='0' and b[0]=='0' and c[1]!='0':\n",
    "        judge = False\n",
    "    elif a[0]=='0' and b[0]=='max' and c[1]!='-':\n",
    "        judge = False\n",
    "    return judge\n",
    "\n",
    "def PP(a,b):\n",
    "    judge = True\n",
    "    if a[1]=='+' and b[1]!='+':\n",
    "        judge = False\n",
    "    elif a[1]=='-' and b[1]!='-':\n",
    "        judge = False\n",
    "    return judge\n",
    "\n",
    "def VCmax(a,b):\n",
    "    judge = True\n",
    "    if a[0]=='max' and b[0]!='max':\n",
    "        judge = False\n",
    "    elif b[0]=='max' and a[0]!='max':\n",
    "        judge = False\n",
    "    return judge\n",
    "\n",
    "def VC0(a,b):\n",
    "    judge = True\n",
    "    if a[0]=='0' and b[0]!='0':\n",
    "        judge = False\n",
    "    elif b[0]=='0' and a[0]!='0':\n",
    "        judge = False\n",
    "    elif a[1]=='0' and b[1]!='0':\n",
    "        judge = False\n",
    "    elif b[1]=='0' and a[1]!='0':\n",
    "        judge = False\n",
    "    return judge\n",
    "\n",
    "def VC(a,b):\n",
    "    judge = True\n",
    "    if a!=b:\n",
    "        judge = False\n",
    "    return judge\n",
    "\n",
    "def judge_inner_state(state):\n",
    "    judge = judgev(state)\n",
    "    if state[0]==('0','-') or state[1]==('max','+'):\n",
    "        judge = False\n",
    "    for (a,b) in model_restriction:\n",
    "        for restrict in model_restriction[(a,b)]:\n",
    "            judge = judge and restrict(state[a],state[b])\n",
    "    return judge"
   ]
  },
  {
   "cell_type": "code",
   "execution_count": 4,
   "metadata": {
    "collapsed": false
   },
   "outputs": [],
   "source": [
    "def not_the_same(state1,state2):\n",
    "    judge = True\n",
    "    if state1==state2:\n",
    "        judge = False\n",
    "    return judge\n",
    "def continuity(a,b):\n",
    "    judge = True\n",
    "    if a[0]=='0' and b[0]=='max':\n",
    "        judge = False\n",
    "    elif a[1]=='-' and b[1]=='+':\n",
    "        judge = False\n",
    "    return judge\n",
    "def inflow_limit(a,b):\n",
    "    judge = True\n",
    "    if a==('0','0') and b not in [('0', '0'), ('0', '+')]:\n",
    "        judge = False\n",
    "    if a==('0','+') and b!=('+','+'):\n",
    "        judge = False\n",
    "    if a==('+','0') and b not in [('+','-'),('+','+'),('+','0')]:\n",
    "        judge = False\n",
    "    if a==('+','+') and b not in [('+', '0'),('+', '+')]:\n",
    "        judge = False\n",
    "    return judge\n",
    "def other_limit(a,b):\n",
    "    judge = True\n",
    "    if a==('0','0') and b not in [('0', '0'), ('0', '+')]:\n",
    "        judge = False\n",
    "    if a==('0','+') and b!=('+','+'):\n",
    "        judge = False\n",
    "    if a==('0','-') and b!=('0','0'):\n",
    "        judge = False\n",
    "    if a==('+','-') and b in [('max', '-'), ('max', '0')]:\n",
    "        judge = False\n",
    "    if a==('+','0') and b not in [('+','-'),('+','+'),('+','0')]:\n",
    "        judge = False\n",
    "    if a==('+','+') and b not in [('+', '0'),('+', '+'),('max', '0')]:\n",
    "        judge = False\n",
    "    if a==('max', '-') and b!=('+', '-'):\n",
    "        judge = False\n",
    "    if a==('max', '0') and b not in [('max', '0'),('max','-')]:\n",
    "        judge = False\n",
    "    return judge\n",
    "def judge_speed0(state1,state2):\n",
    "    judge = True\n",
    "    if state1[1][1] == '0':\n",
    "        if state1[0]==state2[0] and state1[0][1]!=state2[1][1]:\n",
    "            judge = False\n",
    "        elif state2[0][1]=='0' and state1[0][1]!=state2[0][1] and state2[1][1] not in {state1[0][1],'0'}:\n",
    "            judge = False\n",
    "        elif state2[0][1]!='0' and state1[0][1]!=state2[0][1] and state2[1][1] not in {state2[0][1],'0'}:\n",
    "            judge = False\n",
    "    return judge\n",
    "def judge_plus(state1,state2):\n",
    "    judge = True\n",
    "    if state1[0]==('+','-') and state1[1][0]=='max' and state2[0]==('0','0'):\n",
    "        judge = False\n",
    "    if state1[:2]==(('+','-'),('max','0')) and state2[:2]!=(('+','-'),('max','-')):\n",
    "        judge = False\n",
    "    if state1[:2]==(('+','-'),('+','0')) and state2[:2]!=(('+','-'),('+','-')):\n",
    "        judge = False\n",
    "    if state1[:2]==(('+','0'),('+','0')) and state2[:2] not in [(('+','-'),('+','0')),(('+','+'),('+','0'))]:\n",
    "        judge = False\n",
    "    if state1[:2]==(('+','+'),('+','0')) and state2[:2]!=(('+','+'),('+','+')):\n",
    "        judge = False\n",
    "    if state1[:2]==(('+','0'),('max','0')) and state2[:2] not in [(('+','-'),('max','0')),(('+','+'),('max','0'))]:\n",
    "        judge = False\n",
    "    if state1[:2]==(('+','+'),('max','0')):\n",
    "        judge = False\n",
    "    if state1[:2]==(('+','+'),('0','+')) and state2[:2]!=(('+','+'),('+','+')):\n",
    "        judge = False\n",
    "    if state1[:2]==(('+','-'),('+','+')) and state2[:2]!=(('+','+'),('+','+')):\n",
    "        judge = False\n",
    "    if state1[:2]==(('+','0'),('+','+')) and state2[:2] in [(('+','+'),('max','0')),(('+','+'),('+','0'))]:\n",
    "        judge = False\n",
    "    if state1[:2]==(('+','+'),('+','+')) and state2[:2] not in [(('+','0'),('+','0')),(('+','0'),('max','0')),(('+','0'),('+','+'))]:\n",
    "        judge = False\n",
    "    if state1[:2]==(('0','+'),('+','-')) and state2[:2]!=(('+','+'),('+','-')):\n",
    "        judge = False\n",
    "    if state1[:2]==(('+','-'),('+','-')) and state2[:2] not in [(('0','0'),('0','0')),(('+','0'),('+','0')),(('0','0'),('+','-'))]:\n",
    "        judge = False\n",
    "    if state1[:2]==(('+','0'),('+','-')) and state2[:2] not in [(('+','0'),('+','0')),(('+','+'),('+','0')),(('+','+'),('+','-'))]:\n",
    "        judge = False\n",
    "    if state1[:2]==(('+','-'),('max','-')) and state2[:2]!=(('+','-'),('+','-')):\n",
    "        judge = False\n",
    "    return judge\n",
    "\n",
    "def judge_inter_state(state1,state2):\n",
    "    judge = not_the_same(state1,state2) and judge_speed0(state1,state2) and judge_plus(state1,state2)\n",
    "    for i in range(len(state1)):\n",
    "        if i==0:\n",
    "            judge = judge and inflow_limit(state1[i],state2[i])\n",
    "        else:\n",
    "            judge = judge and other_limit(state1[i],state2[i])\n",
    "        judge = judge and continuity(state1[i],state2[i]) and continuity(state2[i],state1[i])\n",
    "        if judge==False:\n",
    "            break\n",
    "    return judge"
   ]
  },
  {
   "cell_type": "code",
   "execution_count": 5,
   "metadata": {
    "collapsed": false
   },
   "outputs": [],
   "source": [
    "model_restriction = {(1,2):{PP,VCmax,VC0},(1,3):{VC},(3,4):{VC}}\n",
    "possibilities = {x for x in itertools.product(Inflow,Volume,Outflow,Height,Pressure) if judge_inner_state(x)}"
   ]
  },
  {
   "cell_type": "code",
   "execution_count": 6,
   "metadata": {
    "collapsed": false
   },
   "outputs": [],
   "source": [
    "state_list = [initial_state]\n",
    "relation_set = set()\n",
    "\n",
    "i = 0\n",
    "j = 0\n",
    "\n",
    "while j<5:\n",
    "    try:\n",
    "        state = state_list[i]\n",
    "        for possible_state in possibilities:\n",
    "            if judge_inter_state(state,possible_state):\n",
    "                if possible_state not in state_list:\n",
    "                    state_list.append(possible_state)\n",
    "                relation_set.add((state_list.index(state),state_list.index(possible_state)))\n",
    "        i += 1\n",
    "    except:\n",
    "        i -= 1\n",
    "        j += 1"
   ]
  },
  {
   "cell_type": "code",
   "execution_count": 7,
   "metadata": {
    "collapsed": false
   },
   "outputs": [
    {
     "data": {
      "text/plain": [
       "'test-output/Stategraph.pdf'"
      ]
     },
     "execution_count": 7,
     "metadata": {},
     "output_type": "execute_result"
    }
   ],
   "source": [
    "dot = Digraph(comment='Stategraph')\n",
    "for s in state_list:\n",
    "    dot.node(str(s))\n",
    "    \n",
    "for (x,y) in sorted(list(relation_set),key=lambda tup: tup[0]):\n",
    "    dot.edge(str(state_list[x]), str(state_list[y]))\n",
    "\n",
    "dot.render('test-output/Stategraph',view=True)"
   ]
  },
  {
   "cell_type": "code",
   "execution_count": 8,
   "metadata": {
    "collapsed": false,
    "scrolled": false
   },
   "outputs": [],
   "source": [
    "d = {0:'Inflow',1:'Volume',2:'Outflow',3:'Height',4:'Pressure'}\n",
    "with open('Insightful_trace.txt','w') as it:\n",
    "    for (x,y) in sorted(list(relation_set),key=lambda tup: tup[0]):\n",
    "        state1 = state_list[x]\n",
    "        state2 = state_list[y]\n",
    "        it.write(str(state1)+' -> '+str(state2)+'\\n')\n",
    "        for i in range(len(state1)):\n",
    "            if state1[i][0]=='0' and state2[i][0]=='0':\n",
    "                it.write(d[i]+' did not change'+'\\n')\n",
    "            if state1[i][0]=='+' and state2[i][0]=='+':\n",
    "                it.write(d[i]+' is positive'+'\\n')\n",
    "            if state1[i][0]=='0' and state2[i][0]=='+':\n",
    "                it.write(d[i]+' grows from zero to positive'+'\\n')\n",
    "            if state1[i][0]=='+' and state2[i][0]=='max':\n",
    "                it.write(d[i]+' reaches the maximum'+'\\n')\n",
    "            if state1[i][0]=='+' and state2[i][0]=='0':\n",
    "                it.write(d[i]+' decreases to zero'+'\\n')\n",
    "            if state1[i][0]=='max' and state2[i][0]=='+':\n",
    "                it.write(d[i]+' decreases from maximum to some positive value'+'\\n')\n",
    "            if state1[i][1]=='0' and state2[i][1]=='0':\n",
    "                it.write(d[i]+' keeps stable'+'\\n')\n",
    "            if state1[i][1]=='+' and state2[i][1]=='+':\n",
    "                it.write(d[i]+' keeps increasing'+'\\n')\n",
    "            if state1[i][1]=='-' and state2[i][1]=='-':\n",
    "                it.write(d[i]+' keeps decreasing'+'\\n')\n",
    "            if state1[i][1]=='0' and state2[i][1]=='+':\n",
    "                it.write(d[i]+' starts to increase'+'\\n')\n",
    "            if state1[i][1]=='0' and state2[i][1]=='-':\n",
    "                it.write(d[i]+' starts to decrease'+'\\n')\n",
    "            if state1[i][1]=='+' and state2[i][1]=='0':\n",
    "                it.write(d[i]+' does not increase anymore'+'\\n')\n",
    "            if state1[i][1]=='-' and state2[i][1]=='0':\n",
    "                it.write(d[i]+' does not decrease anymore'+'\\n')\n",
    "        it.write('\\n')"
   ]
  }
 ],
 "metadata": {
  "kernelspec": {
   "display_name": "Python 3",
   "language": "python",
   "name": "python3"
  },
  "language_info": {
   "codemirror_mode": {
    "name": "ipython",
    "version": 3
   },
   "file_extension": ".py",
   "mimetype": "text/x-python",
   "name": "python",
   "nbconvert_exporter": "python",
   "pygments_lexer": "ipython3",
   "version": "3.6.0"
  }
 },
 "nbformat": 4,
 "nbformat_minor": 2
}
